{
 "cells": [
  {
   "cell_type": "markdown",
   "metadata": {},
   "source": [
    "## Control de flujo\n",
    "El control de flujo dentro de los programas permite crear condiciones en las cuales se siguen ciertos caminos para llegar al resultado deseado\n",
    "\n",
    "Existen 3 tipos de condiciones de flujo muy utilizados los cuales son los siguientes:\n",
    "- If\n",
    "    - Else\n",
    "- For\n",
    "- While"
   ]
  },
  {
   "cell_type": "markdown",
   "metadata": {},
   "source": [
    "### **if**\n",
    "\n",
    "La condición más simple es **if** la cual se traduce literalemnte al español \"si\". Podemos decirlo con palabras, \"si **algo** es cierto, entonces realiza esta acción\""
   ]
  },
  {
   "cell_type": "code",
   "execution_count": 1,
   "metadata": {},
   "outputs": [
    {
     "name": "stdout",
     "output_type": "stream",
     "text": [
      "Hola, esto es cierto!\n"
     ]
    }
   ],
   "source": [
    "if True:\n",
    "    print(\"Hola, esto es cierto!\")\n",
    "if False:\n",
    "    print(\"Hola, esto es falso!\")"
   ]
  },
  {
   "cell_type": "code",
   "execution_count": 2,
   "metadata": {},
   "outputs": [
    {
     "name": "stdout",
     "output_type": "stream",
     "text": [
      "Hola, la condición es verdadera!\n"
     ]
    }
   ],
   "source": [
    "condicion = True\n",
    "if condicion:\n",
    "    print(\"Hola, la condición es verdadera!\")"
   ]
  },
  {
   "cell_type": "code",
   "execution_count": 3,
   "metadata": {},
   "outputs": [],
   "source": [
    "condicion = False\n",
    "if condicion:\n",
    "    print(\"Hola, la condición es falsa!\")"
   ]
  },
  {
   "cell_type": "code",
   "execution_count": 4,
   "metadata": {},
   "outputs": [
    {
     "name": "stdout",
     "output_type": "stream",
     "text": [
      "Segunda opción\n"
     ]
    }
   ],
   "source": [
    "condicion = False\n",
    "if condicion:\n",
    "    print(\"Primera opción\")\n",
    "else:\n",
    "    print(\"Segunda opción\")"
   ]
  },
  {
   "cell_type": "code",
   "execution_count": 5,
   "metadata": {},
   "outputs": [
    {
     "name": "stdout",
     "output_type": "stream",
     "text": [
      "Primera opción\n"
     ]
    }
   ],
   "source": [
    "condicion = False\n",
    "if not condicion:\n",
    "    print(\"Primera opción\")\n",
    "else:\n",
    "    print(\"Segunda opción\")"
   ]
  },
  {
   "cell_type": "code",
   "execution_count": 6,
   "metadata": {},
   "outputs": [
    {
     "name": "stdout",
     "output_type": "stream",
     "text": [
      "Segunda opción\n"
     ]
    }
   ],
   "source": [
    "condicion = False\n",
    "if condicion:\n",
    "    print(\"Primera opción\")\n",
    "elif not condicion:\n",
    "    print(\"Segunda opción\")\n",
    "else:\n",
    "    print(\"Tercer opción\")"
   ]
  },
  {
   "cell_type": "code",
   "execution_count": 7,
   "metadata": {},
   "outputs": [
    {
     "name": "stdout",
     "output_type": "stream",
     "text": [
      "Tercer opción\n"
     ]
    }
   ],
   "source": [
    "condicion = False\n",
    "if condicion:\n",
    "    print(\"Primera opción\")\n",
    "elif condicion:\n",
    "    print(\"Segunda opción\")\n",
    "else:\n",
    "    print(\"Tercer opción\")"
   ]
  },
  {
   "cell_type": "code",
   "execution_count": 8,
   "metadata": {},
   "outputs": [],
   "source": [
    "condicion = False\n",
    "if condicion:\n",
    "    print(\"Primera opción\")\n",
    "elif condicion:\n",
    "    print(\"Segunda opción\")"
   ]
  },
  {
   "cell_type": "markdown",
   "metadata": {},
   "source": [
    "### **while**\n",
    "\n",
    "La siguiente condición es **while**, esta condición se traduce como \"mientras\", es decir, **mientras** la condición sea cierta, esa parte de código se seguira ejecutando.\n",
    "Esto implica que dentro del ciclo while tendremos que modificar nuestra condición para poder salir del ciclo"
   ]
  },
  {
   "cell_type": "code",
   "execution_count": 9,
   "metadata": {},
   "outputs": [
    {
     "name": "stdout",
     "output_type": "stream",
     "text": [
      "0\n",
      "1\n",
      "2\n",
      "3\n",
      "4\n"
     ]
    }
   ],
   "source": [
    "contador = 0\n",
    "while contador < 5:\n",
    "    print(contador)\n",
    "    contador = contador + 1"
   ]
  },
  {
   "cell_type": "code",
   "execution_count": 10,
   "metadata": {},
   "outputs": [],
   "source": [
    "contador = 5\n",
    "while contador < 5:\n",
    "    print(contador)\n",
    "    contador = contador + 1"
   ]
  }
 ],
 "metadata": {
  "kernelspec": {
   "display_name": "Python 3",
   "language": "python",
   "name": "python3"
  },
  "language_info": {
   "codemirror_mode": {
    "name": "ipython",
    "version": 3
   },
   "file_extension": ".py",
   "mimetype": "text/x-python",
   "name": "python",
   "nbconvert_exporter": "python",
   "pygments_lexer": "ipython3",
   "version": "3.7.4"
  }
 },
 "nbformat": 4,
 "nbformat_minor": 4
}
